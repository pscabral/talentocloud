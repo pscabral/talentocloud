{
  "nbformat": 4,
  "nbformat_minor": 0,
  "metadata": {
    "colab": {
      "provenance": [],
      "authorship_tag": "ABX9TyMQAKoWXRrhsCzypSEv4dky",
      "include_colab_link": true
    },
    "kernelspec": {
      "name": "python3",
      "display_name": "Python 3"
    },
    "language_info": {
      "name": "python"
    }
  },
  "cells": [
    {
      "cell_type": "markdown",
      "metadata": {
        "id": "view-in-github",
        "colab_type": "text"
      },
      "source": [
        "<a href=\"https://colab.research.google.com/github/pscabral/talentocloud/blob/main/Fa%C3%A7a%20uma%20fun%C3%A7%C3%A3o%20calculadora%20de%20dois%20n%C3%BAmeros%20com%20tr%C3%AAs%20par%C3%A2metros.ipynb\" target=\"_parent\"><img src=\"https://colab.research.google.com/assets/colab-badge.svg\" alt=\"Open In Colab\"/></a>"
      ]
    },
    {
      "cell_type": "code",
      "source": [
        "def calculadora(num1, num2, operacao):\n",
        "    if operacao == '+':\n",
        "        return num1 + num2\n",
        "    elif operacao == '-':\n",
        "        return num1 - num2\n",
        "    elif operacao == '*':\n",
        "        return num1 * num2\n",
        "    elif operacao == '/':\n",
        "        if num2 != 0:\n",
        "            return num1 / num2\n",
        "        else:\n",
        "            print(\"Erro: Divisão por zero!\")\n",
        "            return 0\n",
        "    else:\n",
        "        print(\"Operação inválida!\")\n",
        "        return 0\n",
        "\n",
        "resultado = calculadora(10, 5, '+')\n",
        "print(resultado)  # Saída: 15\n",
        "\n",
        "resultado = calculadora(7, 2, '-')\n",
        "print(resultado)  # Saída: 5\n",
        "\n",
        "resultado = calculadora(4, 3, '*')\n",
        "print(resultado)  # Saída: 12\n",
        "\n",
        "resultado = calculadora(10, 2, '/')\n",
        "print(resultado)  # Saída: 5.0\n"
      ],
      "metadata": {
        "colab": {
          "base_uri": "https://localhost:8080/"
        },
        "id": "THeiSaA9bzh7",
        "outputId": "1fd4a650-882a-4f23-c36d-146f1ae464e0"
      },
      "execution_count": 2,
      "outputs": [
        {
          "output_type": "stream",
          "name": "stdout",
          "text": [
            "15\n",
            "5\n",
            "12\n",
            "5.0\n"
          ]
        }
      ]
    }
  ]
}