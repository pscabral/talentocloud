{
  "nbformat": 4,
  "nbformat_minor": 0,
  "metadata": {
    "colab": {
      "provenance": [],
      "authorship_tag": "ABX9TyNdfIEranZuxs57fPYBe8Y/",
      "include_colab_link": true
    },
    "kernelspec": {
      "name": "python3",
      "display_name": "Python 3"
    },
    "language_info": {
      "name": "python"
    }
  },
  "cells": [
    {
      "cell_type": "markdown",
      "metadata": {
        "id": "view-in-github",
        "colab_type": "text"
      },
      "source": [
        "<a href=\"https://colab.research.google.com/github/pscabral/talentocloud/blob/main/Desenvolva%20um%20programa%20que%20recebe%20do%20usu%C3%A1rio%20nome%20completo%20e%20ano%20de%20nascimento%20que%20seja%20entre%201922%20e%202021.ipynb\" target=\"_parent\"><img src=\"https://colab.research.google.com/assets/colab-badge.svg\" alt=\"Open In Colab\"/></a>"
      ]
    },
    {
      "cell_type": "code",
      "execution_count": 2,
      "metadata": {
        "colab": {
          "base_uri": "https://localhost:8080/"
        },
        "id": "OcT6j20ULZy7",
        "outputId": "2c1bff03-962a-4dfb-9b63-6db793cb4363"
      },
      "outputs": [
        {
          "output_type": "stream",
          "name": "stdout",
          "text": [
            "Digite seu nome completo: Paulo Cabral\n",
            "Digite o ano de nascimento (entre 1922 e 2021): 1970\n",
            "Olá, Paulo Cabral!\n",
            "Você completou ou completará 54 anos no ano atual (2024).\n"
          ]
        }
      ],
      "source": [
        "import datetime\n",
        "\n",
        "def calcular_idade(ano_nascimento):\n",
        "    ano_atual = datetime.datetime.now().year\n",
        "    return ano_atual - ano_nascimento\n",
        "\n",
        "def obter_ano_nascimento():\n",
        "    while True:\n",
        "        try:\n",
        "            ano = int(input(\"Digite o ano de nascimento (entre 1922 e 2021): \"))\n",
        "            if 1922 <= ano <= 2021:\n",
        "                return ano\n",
        "            else:\n",
        "                print(\"Ano de nascimento fora do intervalo permitido.\")\n",
        "        except ValueError:\n",
        "            print(\"Por favor, insira um ano válido.\")\n",
        "\n",
        "def main():\n",
        "    nome = input(\"Digite seu nome completo: \")\n",
        "    ano_nascimento = obter_ano_nascimento()\n",
        "    idade = calcular_idade(ano_nascimento)\n",
        "    ano_atual = datetime.datetime.now().year\n",
        "    idade_atual = idade if datetime.datetime.now().month >= datetime.datetime.now().month else idade - 1\n",
        "    print(f\"Olá, {nome}!\")\n",
        "    print(f\"Você completou ou completará {idade_atual} anos no ano atual ({ano_atual}).\")\n",
        "\n",
        "if __name__ == \"__main__\":\n",
        "    main()\n"
      ]
    }
  ]
}