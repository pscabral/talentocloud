{
  "nbformat": 4,
  "nbformat_minor": 0,
  "metadata": {
    "colab": {
      "provenance": [],
      "authorship_tag": "ABX9TyMQ+SVVbTHjr24420/ezrT/",
      "include_colab_link": true
    },
    "kernelspec": {
      "name": "python3",
      "display_name": "Python 3"
    },
    "language_info": {
      "name": "python"
    }
  },
  "cells": [
    {
      "cell_type": "markdown",
      "metadata": {
        "id": "view-in-github",
        "colab_type": "text"
      },
      "source": [
        "<a href=\"https://colab.research.google.com/github/pscabral/talentocloud/blob/main/Imprima%20todos%20os%20n%C3%BAmeros%20exceto%20o%20n%C3%BAmero%2013.ipynb\" target=\"_parent\"><img src=\"https://colab.research.google.com/assets/colab-badge.svg\" alt=\"Open In Colab\"/></a>"
      ]
    },
    {
      "cell_type": "code",
      "execution_count": 4,
      "metadata": {
        "colab": {
          "base_uri": "https://localhost:8080/"
        },
        "id": "Fkq6etrZP9hb",
        "outputId": "a7349ba2-786a-467e-9e43-8a23a6995613"
      },
      "outputs": [
        {
          "output_type": "stream",
          "name": "stdout",
          "text": [
            "Contagem dos andares do hotel (excluindo o 13º andar):\n",
            "Andar: 20\n",
            "Andar: 19\n",
            "Andar: 18\n",
            "Andar: 17\n",
            "Andar: 16\n",
            "Andar: 15\n",
            "Andar: 14\n",
            "Andar: 12\n",
            "Andar: 11\n",
            "Andar: 10\n",
            "Andar: 9\n",
            "Andar: 8\n",
            "Andar: 7\n",
            "Andar: 6\n",
            "Andar: 5\n",
            "Andar: 4\n",
            "Andar: 3\n",
            "Andar: 2\n",
            "Andar: 1\n"
          ]
        }
      ],
      "source": [
        "print(\"Contagem dos andares do hotel (excluindo o 13º andar):\")\n",
        "for andar in range(20, 0, -1):\n",
        "    if andar != 13:\n",
        "        print(\"Andar:\", andar)\n"
      ]
    },
    {
      "cell_type": "code",
      "source": [
        "print(\"\\nContagem dos andares do hotel (excluindo o 13º andar):\")\n",
        "andar = 20\n",
        "while andar >= 1:\n",
        "    if andar != 13:\n",
        "        print(\"Andar:\", andar)\n",
        "    andar -= 1"
      ],
      "metadata": {
        "colab": {
          "base_uri": "https://localhost:8080/"
        },
        "id": "azULizOhQCP0",
        "outputId": "61f42f77-a1d4-4090-fdee-0f5dd4d69380"
      },
      "execution_count": 5,
      "outputs": [
        {
          "output_type": "stream",
          "name": "stdout",
          "text": [
            "\n",
            "Contagem dos andares do hotel (excluindo o 13º andar):\n",
            "Andar: 20\n",
            "Andar: 19\n",
            "Andar: 18\n",
            "Andar: 17\n",
            "Andar: 16\n",
            "Andar: 15\n",
            "Andar: 14\n",
            "Andar: 12\n",
            "Andar: 11\n",
            "Andar: 10\n",
            "Andar: 9\n",
            "Andar: 8\n",
            "Andar: 7\n",
            "Andar: 6\n",
            "Andar: 5\n",
            "Andar: 4\n",
            "Andar: 3\n",
            "Andar: 2\n",
            "Andar: 1\n"
          ]
        }
      ]
    }
  ]
}