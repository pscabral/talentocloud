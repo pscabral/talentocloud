{
  "nbformat": 4,
  "nbformat_minor": 0,
  "metadata": {
    "colab": {
      "provenance": [],
      "authorship_tag": "ABX9TyMbOPmF+1XUrpyB2ydfZNdp",
      "include_colab_link": true
    },
    "kernelspec": {
      "name": "python3",
      "display_name": "Python 3"
    },
    "language_info": {
      "name": "python"
    }
  },
  "cells": [
    {
      "cell_type": "markdown",
      "metadata": {
        "id": "view-in-github",
        "colab_type": "text"
      },
      "source": [
        "<a href=\"https://colab.research.google.com/github/pscabral/talentocloud/blob/main/Fa%C3%A7a%20uma%20fun%C3%A7%C3%A3o%20calculadora%20que%20os%20n%C3%BAmeros%20e%20as%20opera%C3%A7%C3%B5es%20ser%C3%A3o%20feitas%20pelo%20usu%C3%A1rio.ipynb\" target=\"_parent\"><img src=\"https://colab.research.google.com/assets/colab-badge.svg\" alt=\"Open In Colab\"/></a>"
      ]
    },
    {
      "cell_type": "code",
      "execution_count": 1,
      "metadata": {
        "colab": {
          "base_uri": "https://localhost:8080/"
        },
        "id": "gsgbj5L5Hf7S",
        "outputId": "37891c54-121d-4134-9d78-ec7b05a46c27"
      },
      "outputs": [
        {
          "output_type": "stream",
          "name": "stdout",
          "text": [
            "\n",
            "Escolha uma operação:\n",
            "1: Soma\n",
            "2: Subtração\n",
            "3: Multiplicação\n",
            "4: Divisão\n",
            "0: Sair\n",
            "Digite o número para a operação correspondente: 1\n",
            "Digite o primeiro valor: 2\n",
            "Digite o segundo valor: 3\n",
            "Resultado da soma: 5.0\n",
            "\n",
            "Escolha uma operação:\n",
            "1: Soma\n",
            "2: Subtração\n",
            "3: Multiplicação\n",
            "4: Divisão\n",
            "0: Sair\n",
            "Digite o número para a operação correspondente: 45\n",
            "Essa opção não existe.\n",
            "\n",
            "Escolha uma operação:\n",
            "1: Soma\n",
            "2: Subtração\n",
            "3: Multiplicação\n",
            "4: Divisão\n",
            "0: Sair\n",
            "Digite o número para a operação correspondente: 55\n",
            "Essa opção não existe.\n",
            "\n",
            "Escolha uma operação:\n",
            "1: Soma\n",
            "2: Subtração\n",
            "3: Multiplicação\n",
            "4: Divisão\n",
            "0: Sair\n",
            "Digite o número para a operação correspondente: 1\n",
            "Digite o primeiro valor: 3\n",
            "Digite o segundo valor: 5\n",
            "Resultado da soma: 8.0\n",
            "\n",
            "Escolha uma operação:\n",
            "1: Soma\n",
            "2: Subtração\n",
            "3: Multiplicação\n",
            "4: Divisão\n",
            "0: Sair\n",
            "Digite o número para a operação correspondente: 0\n",
            "Encerrando o programa...\n"
          ]
        }
      ],
      "source": [
        "def calculadora():\n",
        "    while True:\n",
        "        print(\"\\nEscolha uma operação:\")\n",
        "        print(\"1: Soma\")\n",
        "        print(\"2: Subtração\")\n",
        "        print(\"3: Multiplicação\")\n",
        "        print(\"4: Divisão\")\n",
        "        print(\"0: Sair\")\n",
        "\n",
        "        opcao = input(\"Digite o número para a operação correspondente: \")\n",
        "\n",
        "        if opcao == \"0\":\n",
        "            print(\"Encerrando o programa...\")\n",
        "            break\n",
        "        elif opcao not in [\"1\", \"2\", \"3\", \"4\"]:\n",
        "            print(\"Essa opção não existe.\")\n",
        "            continue\n",
        "\n",
        "        try:\n",
        "            num1 = float(input(\"Digite o primeiro valor: \"))\n",
        "            num2 = float(input(\"Digite o segundo valor: \"))\n",
        "        except ValueError:\n",
        "            print(\"Por favor, insira valores numéricos válidos.\")\n",
        "            continue\n",
        "\n",
        "        if opcao == \"1\":\n",
        "            resultado = num1 + num2\n",
        "            print(\"Resultado da soma:\", resultado)\n",
        "        elif opcao == \"2\":\n",
        "            resultado = num1 - num2\n",
        "            print(\"Resultado da subtração:\", resultado)\n",
        "        elif opcao == \"3\":\n",
        "            resultado = num1 * num2\n",
        "            print(\"Resultado da multiplicação:\", resultado)\n",
        "        elif opcao == \"4\":\n",
        "            if num2 == 0:\n",
        "                print(\"Não é possível dividir por zero.\")\n",
        "                continue\n",
        "            resultado = num1 / num2\n",
        "            print(\"Resultado da divisão:\", resultado)\n",
        "\n",
        "calculadora()\n"
      ]
    }
  ]
}